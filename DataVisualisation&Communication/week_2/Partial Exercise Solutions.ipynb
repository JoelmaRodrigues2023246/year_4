{
 "cells": [
  {
   "cell_type": "markdown",
   "id": "1bb02a35-1878-4dd1-8bbd-84a923c3756b",
   "metadata": {},
   "source": [
    "## In Class Exercises\n",
    "1. Write a JavaScript program that displays \"Hello, World!\" in the browser console.\n",
    "2. Create a JavaScript function that takes two numbers as input, performs addition,\n",
    "subtraction, multiplication, and division operations on them, and displays the results\n",
    "in the browser console.\n",
    "3. Write a JavaScript program that prints the numbers 1 to 10 using a for loop and\n",
    "another version using a while loop.\n",
    "4. Write a JavaScript program that checks if a given number is even or odd and displays\n",
    "the result in the browser console.\n",
    "5. Create an array of 5 names. Use a for loop to iterate through the array and print\n",
    "each name in the browser console.\n",
    "6. Write a function that takes a string as input and returns the string reversed.\n",
    "7. Create a function that checks whether a given word or phrase is a palindrome. A\n",
    "palindrome is a word or phrase that reads the same backwards as forwards.\n",
    "8. Write a program that prints the numbers from 1 to 100. For multiples of 3, print \"Fizz\"\n",
    "instead of the number, and for the multiples of 5, print \"Buzz.\" For numbers which are\n",
    "multiples of both 3 and 5, print \"FizzBuzz.\"\n",
    "9. Write a function that takes a string as input and returns the length of the longest word\n",
    "in the string.\n",
    "10. Write a function that takes a string as input and returns the number of vowels (a, e, i,\n",
    "o, u) in the string.\n",
    "11. Create a function that takes a positive integer as input and returns its factorial. The\n",
    "factorial of a non-negative integer n is the product of all positive integers less than or\n",
    "equal to n.\n",
    "12. Write a function that generates the first n numbers in the Fibonacci sequence. The\n",
    "Fibonacci sequence is a series of numbers in which each number is the sum of the\n",
    "two preceding ones, usually starting with 0 and 1.\n",
    "13. Write a function that finds the sum of all multiples of 3 or 5 below a given number.\n",
    "14. Create a function that checks if a given number is a prime number. A prime number\n",
    "is a number greater than 1 that is only divisible by 1 and itself.\n",
    "15. Create a function that takes a string and a number as input, and returns the Caesar\n",
    "cipher of the string, shifted by the given number. The Caesar cipher is a simple\n",
    "encryption technique where each letter in the plaintext is replaced by a letter some\n",
    "fixed number of positions down the alphabet."
   ]
  },
  {
   "cell_type": "markdown",
   "id": "aa36c14a-6257-4b16-975b-88a5fd2a0fc2",
   "metadata": {},
   "source": [
    "1. Write a JavaScript program that displays \"Hello, World!\" in the browser console."
   ]
  },
  {
   "cell_type": "code",
   "execution_count": 2,
   "id": "61f9a61c-1f6f-4aaf-a45a-7a7add5fe71e",
   "metadata": {},
   "outputs": [
    {
     "name": "stdout",
     "output_type": "stream",
     "text": [
      "Hello, World!\n",
      "Hello, \n",
      "World!\n",
      "Hello, \n",
      "World!\n",
      "Hello, World!\n"
     ]
    }
   ],
   "source": [
    "print(\"Hello, World!\")\n",
    "print('Hello, \\nWorld!')\n",
    "print('''Hello, \n",
    "World!''')\n",
    "print(\"Hello,\", \"World!\")"
   ]
  },
  {
   "cell_type": "code",
   "execution_count": 3,
   "id": "636dcc64-2384-400c-8075-6e49fdee6200",
   "metadata": {},
   "outputs": [
    {
     "name": "stdout",
     "output_type": "stream",
     "text": [
      "Hello, World!Python, Not Java\n"
     ]
    }
   ],
   "source": [
    "print(\"Hello\", \"World!Python\", \"Not Java\", sep=\", \")"
   ]
  },
  {
   "cell_type": "markdown",
   "id": "61558005-4f41-493b-8e1d-409363f65aca",
   "metadata": {},
   "source": [
    "2. Create a Python function that takes two numbers as input, performs addition,\n",
    "subtraction, multiplication, and division operations on them, and displays the results"
   ]
  },
  {
   "cell_type": "code",
   "execution_count": 4,
   "id": "4f73e2f5-3e4f-4814-98b2-f73f851b0868",
   "metadata": {},
   "outputs": [],
   "source": [
    "def arithmetic(num1, num2):\n",
    "    print(num1+num2)\n",
    "    print(num1-num2)\n",
    "    print(num1*num2)\n",
    "    print(num1/num2)"
   ]
  },
  {
   "cell_type": "code",
   "execution_count": 5,
   "id": "11c7f46f-fe2a-44ba-b7a7-24db645e2b87",
   "metadata": {},
   "outputs": [
    {
     "name": "stdout",
     "output_type": "stream",
     "text": [
      "18\n",
      "12\n",
      "45\n",
      "5.0\n"
     ]
    }
   ],
   "source": [
    "arithmetic(15, 3)"
   ]
  },
  {
   "cell_type": "code",
   "execution_count": 6,
   "id": "82870a54-a799-4f93-a289-8aea2b3a2e2c",
   "metadata": {},
   "outputs": [
    {
     "name": "stdout",
     "output_type": "stream",
     "text": [
      "6.5\n",
      "1.5\n",
      "10.0\n",
      "1.6\n"
     ]
    }
   ],
   "source": [
    "arithmetic(4, 2.5)"
   ]
  },
  {
   "cell_type": "markdown",
   "id": "0f4973ed-2088-4390-9924-a2bd77b0b8c6",
   "metadata": {},
   "source": [
    "3. Write a Python program that prints the numbers 1 to 10 using a for loop and\n",
    "another version using a while loop."
   ]
  },
  {
   "cell_type": "code",
   "execution_count": 7,
   "id": "a5852068-cf84-44d2-8cd2-22fa5551702d",
   "metadata": {},
   "outputs": [
    {
     "name": "stdout",
     "output_type": "stream",
     "text": [
      "1\n",
      "2\n",
      "3\n",
      "4\n",
      "5\n",
      "6\n",
      "7\n",
      "8\n",
      "9\n",
      "10\n"
     ]
    }
   ],
   "source": [
    "for num in range(1, 11):\n",
    "    print(num)"
   ]
  },
  {
   "cell_type": "code",
   "execution_count": 8,
   "id": "54bb7c58-def3-4231-865e-7568438ef828",
   "metadata": {},
   "outputs": [
    {
     "name": "stdout",
     "output_type": "stream",
     "text": [
      "1\n",
      "2\n",
      "3\n",
      "4\n",
      "5\n",
      "6\n",
      "7\n",
      "8\n",
      "9\n",
      "10\n"
     ]
    }
   ],
   "source": [
    "num = 1\n",
    "while num <= 10:\n",
    "    print(num)\n",
    "    num += 1 # num = num + 1"
   ]
  },
  {
   "cell_type": "markdown",
   "id": "9e657f85-819e-473e-8a78-1f371c36c917",
   "metadata": {},
   "source": [
    "4. Write a Python program that checks if a given number is even or odd and displays\n",
    "the result in the browser console."
   ]
  },
  {
   "cell_type": "code",
   "execution_count": 9,
   "id": "bb0e14bf-62b7-4aaa-88da-1bb5f282d384",
   "metadata": {},
   "outputs": [],
   "source": [
    "def checkEven(num):\n",
    "    if num % 2 == 0:\n",
    "        print(\"Its even!\")\n",
    "    else:\n",
    "        print(\"Its odd!\")"
   ]
  },
  {
   "cell_type": "code",
   "execution_count": 10,
   "id": "457db29a-36a0-4a47-b112-4a6d1678d9a8",
   "metadata": {},
   "outputs": [
    {
     "name": "stdout",
     "output_type": "stream",
     "text": [
      "Its even!\n"
     ]
    }
   ],
   "source": [
    "checkEven(2)"
   ]
  },
  {
   "cell_type": "code",
   "execution_count": 11,
   "id": "0b58ee29-c50e-473e-ae77-f2a68432b7ef",
   "metadata": {},
   "outputs": [
    {
     "name": "stdout",
     "output_type": "stream",
     "text": [
      "Its odd!\n"
     ]
    }
   ],
   "source": [
    "checkEven(101)"
   ]
  },
  {
   "cell_type": "markdown",
   "id": "9e1e5b70-88b2-4a06-8da0-99eab3a3eade",
   "metadata": {},
   "source": [
    "5. Create an array of 5 names. Use a for loop to iterate through the array and print\n",
    "each name in the browser console."
   ]
  },
  {
   "cell_type": "code",
   "execution_count": 12,
   "id": "481a4e26-3f20-46bb-a3c9-b9a13d3bc957",
   "metadata": {},
   "outputs": [],
   "source": [
    "names = [\n",
    "    \"Sam\",\n",
    "    \"James\",\n",
    "    \"David\",\n",
    "    \"Michael\",\n",
    "    \"Kayoum\"\n",
    "]"
   ]
  },
  {
   "cell_type": "code",
   "execution_count": 13,
   "id": "db645498-aea8-4fec-b015-eab27f16ce7d",
   "metadata": {},
   "outputs": [
    {
     "data": {
      "text/plain": [
       "['Sam', 'James', 'David', 'Michael', 'Kayoum']"
      ]
     },
     "execution_count": 13,
     "metadata": {},
     "output_type": "execute_result"
    }
   ],
   "source": [
    "names"
   ]
  },
  {
   "cell_type": "code",
   "execution_count": 15,
   "id": "99b112df-b266-4d3c-893e-5a7caa3f150b",
   "metadata": {},
   "outputs": [
    {
     "name": "stdout",
     "output_type": "stream",
     "text": [
      "Sam\n",
      "James\n",
      "David\n",
      "Michael\n",
      "Kayoum\n"
     ]
    }
   ],
   "source": [
    "for i in range(len(names)):\n",
    "    print(names[i])"
   ]
  },
  {
   "cell_type": "code",
   "execution_count": 16,
   "id": "ef6d0e6f-e11f-4ec2-adf4-4878acdb8f04",
   "metadata": {},
   "outputs": [
    {
     "name": "stdout",
     "output_type": "stream",
     "text": [
      "Sam\n",
      "James\n",
      "David\n",
      "Michael\n",
      "Kayoum\n"
     ]
    }
   ],
   "source": [
    "for name in names:\n",
    "    print(name)"
   ]
  },
  {
   "cell_type": "code",
   "execution_count": 17,
   "id": "fba3239e-72b3-4075-ab07-4ec722be8dea",
   "metadata": {},
   "outputs": [],
   "source": [
    "emails = [\n",
    "    \"sweiss@cct.ie\",\n",
    "    \"jgarza@cct.ie\",\n",
    "    \"dmcquaid@cct.ie\",\n",
    "    \"mweiss@cct.ie\",\n",
    "    \"kkhible\"\n",
    "]"
   ]
  },
  {
   "cell_type": "code",
   "execution_count": 18,
   "id": "cbc8b9be-b1f6-483d-95cb-3c864621438e",
   "metadata": {},
   "outputs": [
    {
     "name": "stdout",
     "output_type": "stream",
     "text": [
      "Sam sweiss@cct.ie\n",
      "James jgarza@cct.ie\n",
      "David dmcquaid@cct.ie\n",
      "Michael mweiss@cct.ie\n",
      "Kayoum kkhib\n"
     ]
    }
   ],
   "source": [
    "for i in range(len(names)):\n",
    "    print(names[i], emails[i])"
   ]
  },
  {
   "cell_type": "code",
   "execution_count": 20,
   "id": "1c55a872-d121-4e53-aee5-ad8ac57fe93e",
   "metadata": {},
   "outputs": [
    {
     "name": "stdout",
     "output_type": "stream",
     "text": [
      "Sam sweiss@cct.ie\n",
      "James jgarza@cct.ie\n",
      "David dmcquaid@cct.ie\n",
      "Michael mweiss@cct.ie\n",
      "Kayoum kkhib\n"
     ]
    }
   ],
   "source": [
    "for i, name in enumerate(names):\n",
    "    print(name, emails[i])"
   ]
  },
  {
   "cell_type": "markdown",
   "id": "8d6200cd-dc1e-4bdc-9b9b-f986ec974547",
   "metadata": {},
   "source": [
    "6. Write a function that takes a string as input and returns the string reversed."
   ]
  },
  {
   "cell_type": "code",
   "execution_count": 23,
   "id": "889e0191-8a01-445c-852b-d876bcb52298",
   "metadata": {},
   "outputs": [],
   "source": [
    "def reverse(string):\n",
    "    for i in range(len(string)-1, -1, -1):\n",
    "        print(string[i], end=\"\")"
   ]
  },
  {
   "cell_type": "code",
   "execution_count": 24,
   "id": "bd29ab92-5e28-40e3-90cc-da5dbc2d7acf",
   "metadata": {},
   "outputs": [
    {
     "name": "stdout",
     "output_type": "stream",
     "text": [
      "nohtyP"
     ]
    }
   ],
   "source": [
    "reverse(\"Python\")"
   ]
  },
  {
   "cell_type": "code",
   "execution_count": 25,
   "id": "985ae7c3-7752-47a0-a23c-e9a198608e36",
   "metadata": {},
   "outputs": [],
   "source": [
    "def reverse2(string):\n",
    "    answer = \"\"\n",
    "    for letter in string:\n",
    "        answer = letter + answer\n",
    "    print(answer)"
   ]
  },
  {
   "cell_type": "code",
   "execution_count": 26,
   "id": "4c3c1735-0e13-44eb-b9c1-fb3125bc4c30",
   "metadata": {},
   "outputs": [
    {
     "name": "stdout",
     "output_type": "stream",
     "text": [
      "nohtyP\n"
     ]
    }
   ],
   "source": [
    "reverse2(\"Python\")"
   ]
  },
  {
   "cell_type": "code",
   "execution_count": 27,
   "id": "cd735c88-f96f-4232-9141-cc51f5348d35",
   "metadata": {},
   "outputs": [],
   "source": [
    "def reverse3(string):\n",
    "    print(string[::-1])"
   ]
  },
  {
   "cell_type": "code",
   "execution_count": 28,
   "id": "9957467d-8343-4720-ab6d-5a7d1b0bf5d7",
   "metadata": {},
   "outputs": [
    {
     "name": "stdout",
     "output_type": "stream",
     "text": [
      "nohtyP\n"
     ]
    }
   ],
   "source": [
    "reverse3(\"Python\")"
   ]
  },
  {
   "cell_type": "markdown",
   "id": "e0ed0a37-6867-4547-a39e-f6d66f27e07d",
   "metadata": {},
   "source": [
    "8. Write a program that prints the numbers from 1 to 100. For multiples of 3, print \"Fizz\"\n",
    "instead of the number, and for the multiples of 5, print \"Buzz.\" For numbers which are\n",
    "multiples of both 3 and 5, print \"FizzBuzz.\""
   ]
  },
  {
   "cell_type": "code",
   "execution_count": 37,
   "id": "1013e967-86ef-4174-88b0-bc053a0801a9",
   "metadata": {},
   "outputs": [],
   "source": [
    "def fizzBuzz():\n",
    "    for num in range(1, 101):\n",
    "        if num % 3 ==0 and num % 5 == 0:\n",
    "            print(\"FizzBuzz\")\n",
    "        elif num % 3 == 0:\n",
    "            print(\"Fizz\")\n",
    "        elif num % 5 == 0:\n",
    "            print(\"Buzz\")\n",
    "        else:\n",
    "            print(num)"
   ]
  },
  {
   "cell_type": "code",
   "execution_count": 38,
   "id": "80081052-77a8-4123-82a0-6cd765978006",
   "metadata": {},
   "outputs": [
    {
     "name": "stdout",
     "output_type": "stream",
     "text": [
      "1\n",
      "2\n",
      "Fizz\n",
      "4\n",
      "Buzz\n",
      "Fizz\n",
      "7\n",
      "8\n",
      "Fizz\n",
      "Buzz\n",
      "11\n",
      "Fizz\n",
      "13\n",
      "14\n",
      "FizzBuzz\n",
      "16\n",
      "17\n",
      "Fizz\n",
      "19\n",
      "Buzz\n",
      "Fizz\n",
      "22\n",
      "23\n",
      "Fizz\n",
      "Buzz\n",
      "26\n",
      "Fizz\n",
      "28\n",
      "29\n",
      "FizzBuzz\n",
      "31\n",
      "32\n",
      "Fizz\n",
      "34\n",
      "Buzz\n",
      "Fizz\n",
      "37\n",
      "38\n",
      "Fizz\n",
      "Buzz\n",
      "41\n",
      "Fizz\n",
      "43\n",
      "44\n",
      "FizzBuzz\n",
      "46\n",
      "47\n",
      "Fizz\n",
      "49\n",
      "Buzz\n",
      "Fizz\n",
      "52\n",
      "53\n",
      "Fizz\n",
      "Buzz\n",
      "56\n",
      "Fizz\n",
      "58\n",
      "59\n",
      "FizzBuzz\n",
      "61\n",
      "62\n",
      "Fizz\n",
      "64\n",
      "Buzz\n",
      "Fizz\n",
      "67\n",
      "68\n",
      "Fizz\n",
      "Buzz\n",
      "71\n",
      "Fizz\n",
      "73\n",
      "74\n",
      "FizzBuzz\n",
      "76\n",
      "77\n",
      "Fizz\n",
      "79\n",
      "Buzz\n",
      "Fizz\n",
      "82\n",
      "83\n",
      "Fizz\n",
      "Buzz\n",
      "86\n",
      "Fizz\n",
      "88\n",
      "89\n",
      "FizzBuzz\n",
      "91\n",
      "92\n",
      "Fizz\n",
      "94\n",
      "Buzz\n",
      "Fizz\n",
      "97\n",
      "98\n",
      "Fizz\n",
      "Buzz\n"
     ]
    }
   ],
   "source": [
    "fizzBuzz()"
   ]
  },
  {
   "cell_type": "markdown",
   "id": "ec286e65-cf8a-4c4a-9f23-99f4cb408cc4",
   "metadata": {},
   "source": [
    "15. Create a function that takes a string and a number as input, and returns the Caesar\n",
    "cipher of the string, shifted by the given number. The Caesar cipher is a simple\n",
    "encryption technique where each letter in the plaintext is replaced by a letter some\n",
    "fixed number of positions down the alphabet."
   ]
  },
  {
   "cell_type": "markdown",
   "id": "0f80794a-6f32-4914-8678-f342e479cce5",
   "metadata": {},
   "source": [
    "caeserCipher(\"Python\", 3) -> \"Sbwkrq\""
   ]
  },
  {
   "cell_type": "code",
   "execution_count": 39,
   "id": "83cc01be-1fe0-4a86-a841-f43df2f265cd",
   "metadata": {},
   "outputs": [],
   "source": [
    "def caeserCipher(plaintext, shift):\n",
    "    ciphertext = \"\"\n",
    "    for letter in plaintext:\n",
    "        encoding = ord(letter)\n",
    "        shifted_encoding = encoding + shift\n",
    "        shifted_letter = chr(shifted_encoding)\n",
    "        ciphertext += shifted_letter\n",
    "    return ciphertext"
   ]
  },
  {
   "cell_type": "code",
   "execution_count": 40,
   "id": "452b05e0-2e38-43ac-8d35-99b6e283fad6",
   "metadata": {},
   "outputs": [
    {
     "data": {
      "text/plain": [
       "'S|wkrq'"
      ]
     },
     "execution_count": 40,
     "metadata": {},
     "output_type": "execute_result"
    }
   ],
   "source": [
    "caeserCipher(\"Python\", 3)"
   ]
  },
  {
   "cell_type": "code",
   "execution_count": 45,
   "id": "8dfb712e-753c-4546-a0e8-62f5de34ca99",
   "metadata": {},
   "outputs": [
    {
     "data": {
      "text/plain": [
       "'S|wkrqB'"
      ]
     },
     "execution_count": 45,
     "metadata": {},
     "output_type": "execute_result"
    }
   ],
   "source": [
    "caeserCipher(\"Python?\", 3)"
   ]
  },
  {
   "cell_type": "code",
   "execution_count": 46,
   "id": "07c4c46c-e6e7-4c62-8bc7-146d2cc3cb3a",
   "metadata": {},
   "outputs": [
    {
     "name": "stdout",
     "output_type": "stream",
     "text": [
      " \n",
      "!\n",
      "\"\n",
      "#\n",
      "$\n",
      "%\n",
      "&\n",
      "'\n",
      "(\n",
      ")\n",
      "*\n",
      "+\n",
      ",\n",
      "-\n",
      ".\n",
      "/\n",
      "0\n",
      "1\n",
      "2\n",
      "3\n",
      "4\n",
      "5\n",
      "6\n",
      "7\n",
      "8\n",
      "9\n",
      ":\n",
      ";\n",
      "<\n",
      "=\n",
      ">\n",
      "?\n",
      "@\n",
      "A\n",
      "B\n",
      "C\n",
      "D\n",
      "E\n",
      "F\n",
      "G\n",
      "H\n",
      "I\n",
      "J\n",
      "K\n",
      "L\n",
      "M\n",
      "N\n",
      "O\n",
      "P\n",
      "Q\n",
      "R\n",
      "S\n",
      "T\n",
      "U\n",
      "V\n",
      "W\n",
      "X\n",
      "Y\n",
      "Z\n",
      "[\n",
      "\\\n",
      "]\n",
      "^\n",
      "_\n",
      "`\n",
      "a\n",
      "b\n",
      "c\n",
      "d\n",
      "e\n",
      "f\n",
      "g\n",
      "h\n",
      "i\n",
      "j\n",
      "k\n",
      "l\n",
      "m\n",
      "n\n",
      "o\n",
      "p\n",
      "q\n",
      "r\n",
      "s\n",
      "t\n",
      "u\n",
      "v\n",
      "w\n",
      "x\n",
      "y\n",
      "z\n",
      "{\n",
      "|\n",
      "}\n",
      "~\n",
      "\n",
      "\n"
     ]
    }
   ],
   "source": [
    "for num in range(32, 129):\n",
    "    print(chr(num))"
   ]
  },
  {
   "cell_type": "code",
   "execution_count": 47,
   "id": "0c343130-6838-41b6-bc64-224777f8b6f0",
   "metadata": {},
   "outputs": [],
   "source": [
    "message = caeserCipher(\"Python?\", 3)"
   ]
  },
  {
   "cell_type": "code",
   "execution_count": 48,
   "id": "cc33b6cd-7ec6-4404-9a6d-e231719a8716",
   "metadata": {},
   "outputs": [
    {
     "data": {
      "text/plain": [
       "'S|wkrqB'"
      ]
     },
     "execution_count": 48,
     "metadata": {},
     "output_type": "execute_result"
    }
   ],
   "source": [
    "message"
   ]
  },
  {
   "cell_type": "code",
   "execution_count": 50,
   "id": "45076b23-4230-4ec9-8074-073df2151ede",
   "metadata": {},
   "outputs": [
    {
     "data": {
      "text/plain": [
       "'Python?'"
      ]
     },
     "execution_count": 50,
     "metadata": {},
     "output_type": "execute_result"
    }
   ],
   "source": [
    "caeserCipher(message, -3)"
   ]
  },
  {
   "cell_type": "code",
   "execution_count": 62,
   "id": "160694e1-feac-4715-85bf-56f19960f9ed",
   "metadata": {},
   "outputs": [
    {
     "data": {
      "text/plain": [
       "58"
      ]
     },
     "execution_count": 62,
     "metadata": {},
     "output_type": "execute_result"
    }
   ],
   "source": [
    "123-65"
   ]
  },
  {
   "cell_type": "code",
   "execution_count": 58,
   "id": "7c9fe2c0-b873-49d7-8747-637ab694ccf1",
   "metadata": {},
   "outputs": [],
   "source": [
    "def caeserCipher2(plaintext, shift):\n",
    "    ciphertext = \"\"\n",
    "    for letter in plaintext:\n",
    "        encoding = ord(letter)\n",
    "        shifted_encoding = (encoding + shift - 65) % (123-65)\n",
    "        shifted_letter = chr(shifted_encoding + 65)\n",
    "        ciphertext += shifted_letter\n",
    "    return ciphertext"
   ]
  },
  {
   "cell_type": "code",
   "execution_count": 51,
   "id": "77b6f15b-577c-4d9c-a904-210a465c5ac3",
   "metadata": {},
   "outputs": [
    {
     "data": {
      "text/plain": [
       "65"
      ]
     },
     "execution_count": 51,
     "metadata": {},
     "output_type": "execute_result"
    }
   ],
   "source": [
    "ord(\"A\")"
   ]
  },
  {
   "cell_type": "code",
   "execution_count": 52,
   "id": "55f39551-d9c9-4cbc-b4a5-c6c9de36e9de",
   "metadata": {},
   "outputs": [
    {
     "data": {
      "text/plain": [
       "122"
      ]
     },
     "execution_count": 52,
     "metadata": {},
     "output_type": "execute_result"
    }
   ],
   "source": [
    "ord(\"z\")"
   ]
  },
  {
   "cell_type": "code",
   "execution_count": 59,
   "id": "f11d15ff-0c4d-4eff-afb6-da9c90eccf7c",
   "metadata": {},
   "outputs": [
    {
     "data": {
      "text/plain": [
       "'SBwkrq'"
      ]
     },
     "execution_count": 59,
     "metadata": {},
     "output_type": "execute_result"
    }
   ],
   "source": [
    "caeserCipher2(\"Python\", 3)"
   ]
  },
  {
   "cell_type": "code",
   "execution_count": 60,
   "id": "7fcf65f4-dbeb-4581-bbbd-07b128a171b2",
   "metadata": {},
   "outputs": [
    {
     "name": "stdout",
     "output_type": "stream",
     "text": [
      "SBwkrq\n"
     ]
    }
   ],
   "source": [
    "message2 = caeserCipher2(\"Python\", 3)\n",
    "print(message2)"
   ]
  },
  {
   "cell_type": "code",
   "execution_count": 61,
   "id": "861d929c-1da7-4dc7-8c00-5aadfc8774b7",
   "metadata": {},
   "outputs": [
    {
     "data": {
      "text/plain": [
       "'Python'"
      ]
     },
     "execution_count": 61,
     "metadata": {},
     "output_type": "execute_result"
    }
   ],
   "source": [
    "caeserCipher2(message2, -3)"
   ]
  },
  {
   "cell_type": "code",
   "execution_count": null,
   "id": "4373f0de-c905-44f1-b55f-ad3caea98e25",
   "metadata": {},
   "outputs": [],
   "source": []
  }
 ],
 "metadata": {
  "kernelspec": {
   "display_name": "Python 3 (ipykernel)",
   "language": "python",
   "name": "python3"
  },
  "language_info": {
   "codemirror_mode": {
    "name": "ipython",
    "version": 3
   },
   "file_extension": ".py",
   "mimetype": "text/x-python",
   "name": "python",
   "nbconvert_exporter": "python",
   "pygments_lexer": "ipython3",
   "version": "3.12.5"
  }
 },
 "nbformat": 4,
 "nbformat_minor": 5
}
