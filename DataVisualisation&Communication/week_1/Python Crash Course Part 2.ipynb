{
 "cells": [
  {
   "cell_type": "markdown",
   "id": "b0fdc53b",
   "metadata": {},
   "source": [
    "## Mathematical Operations"
   ]
  },
  {
   "cell_type": "code",
   "execution_count": 1,
   "id": "1a13a2b9",
   "metadata": {},
   "outputs": [
    {
     "data": {
      "text/plain": [
       "6"
      ]
     },
     "execution_count": 1,
     "metadata": {},
     "output_type": "execute_result"
    }
   ],
   "source": [
    "3+3"
   ]
  },
  {
   "cell_type": "code",
   "execution_count": 2,
   "id": "448329cc",
   "metadata": {},
   "outputs": [
    {
     "data": {
      "text/plain": [
       "3"
      ]
     },
     "execution_count": 2,
     "metadata": {},
     "output_type": "execute_result"
    }
   ],
   "source": [
    "6-3"
   ]
  },
  {
   "cell_type": "code",
   "execution_count": 3,
   "id": "ed4b8224",
   "metadata": {},
   "outputs": [
    {
     "data": {
      "text/plain": [
       "54"
      ]
     },
     "execution_count": 3,
     "metadata": {},
     "output_type": "execute_result"
    }
   ],
   "source": [
    "6*9"
   ]
  },
  {
   "cell_type": "code",
   "execution_count": 4,
   "id": "81743d5c",
   "metadata": {},
   "outputs": [
    {
     "data": {
      "text/plain": [
       "3.0"
      ]
     },
     "execution_count": 4,
     "metadata": {},
     "output_type": "execute_result"
    }
   ],
   "source": [
    "9/3"
   ]
  },
  {
   "cell_type": "markdown",
   "id": "7d73e9ae",
   "metadata": {},
   "source": [
    "Division always returns a float!!"
   ]
  },
  {
   "cell_type": "code",
   "execution_count": 5,
   "id": "b71f8f80",
   "metadata": {},
   "outputs": [
    {
     "data": {
      "text/plain": [
       "6.0"
      ]
     },
     "execution_count": 5,
     "metadata": {},
     "output_type": "execute_result"
    }
   ],
   "source": [
    "3+3.0"
   ]
  },
  {
   "cell_type": "markdown",
   "id": "9b1cd495",
   "metadata": {},
   "source": [
    "A float and an integer will return a float"
   ]
  },
  {
   "cell_type": "code",
   "execution_count": 6,
   "id": "cda68d9c",
   "metadata": {},
   "outputs": [
    {
     "data": {
      "text/plain": [
       "36"
      ]
     },
     "execution_count": 6,
     "metadata": {},
     "output_type": "execute_result"
    }
   ],
   "source": [
    "6**2"
   ]
  },
  {
   "cell_type": "markdown",
   "id": "535470d7",
   "metadata": {},
   "source": [
    "6\\*\\*2 = $6^2$"
   ]
  },
  {
   "cell_type": "code",
   "execution_count": 7,
   "id": "e0ec2977",
   "metadata": {},
   "outputs": [
    {
     "data": {
      "text/plain": [
       "6.0"
      ]
     },
     "execution_count": 7,
     "metadata": {},
     "output_type": "execute_result"
    }
   ],
   "source": [
    "36**0.5"
   ]
  },
  {
   "cell_type": "markdown",
   "id": "74b31eb9",
   "metadata": {},
   "source": [
    "36\\*\\*0.5 = $36^\\frac{1}{2} = \\sqrt{36}$"
   ]
  },
  {
   "cell_type": "code",
   "execution_count": 8,
   "id": "9cbb9fc5",
   "metadata": {},
   "outputs": [
    {
     "data": {
      "text/plain": [
       "3.0"
      ]
     },
     "execution_count": 8,
     "metadata": {},
     "output_type": "execute_result"
    }
   ],
   "source": [
    "27**(1/3)"
   ]
  },
  {
   "cell_type": "code",
   "execution_count": 9,
   "id": "1a1b6095",
   "metadata": {},
   "outputs": [
    {
     "data": {
      "text/plain": [
       "int"
      ]
     },
     "execution_count": 9,
     "metadata": {},
     "output_type": "execute_result"
    }
   ],
   "source": [
    "type(3)"
   ]
  },
  {
   "cell_type": "code",
   "execution_count": 10,
   "id": "f207960f",
   "metadata": {},
   "outputs": [
    {
     "data": {
      "text/plain": [
       "float"
      ]
     },
     "execution_count": 10,
     "metadata": {},
     "output_type": "execute_result"
    }
   ],
   "source": [
    "type(3.0)"
   ]
  },
  {
   "cell_type": "markdown",
   "id": "a384e3d6",
   "metadata": {},
   "source": [
    "Java double = Python float"
   ]
  },
  {
   "cell_type": "code",
   "execution_count": 11,
   "id": "e1490a8b",
   "metadata": {},
   "outputs": [
    {
     "data": {
      "text/plain": [
       "bool"
      ]
     },
     "execution_count": 11,
     "metadata": {},
     "output_type": "execute_result"
    }
   ],
   "source": [
    "type(True)"
   ]
  },
  {
   "cell_type": "code",
   "execution_count": 12,
   "id": "a16ac205",
   "metadata": {},
   "outputs": [
    {
     "data": {
      "text/plain": [
       "1.6666666666666667"
      ]
     },
     "execution_count": 12,
     "metadata": {},
     "output_type": "execute_result"
    }
   ],
   "source": [
    "5/3"
   ]
  },
  {
   "cell_type": "code",
   "execution_count": 13,
   "id": "3131f68f",
   "metadata": {},
   "outputs": [
    {
     "data": {
      "text/plain": [
       "1"
      ]
     },
     "execution_count": 13,
     "metadata": {},
     "output_type": "execute_result"
    }
   ],
   "source": [
    "5//3"
   ]
  },
  {
   "cell_type": "markdown",
   "id": "ae6b49e8",
   "metadata": {},
   "source": [
    "Integer division - truncates a float to return the integer part"
   ]
  },
  {
   "cell_type": "code",
   "execution_count": 14,
   "id": "56ceacd0",
   "metadata": {},
   "outputs": [
    {
     "data": {
      "text/plain": [
       "2"
      ]
     },
     "execution_count": 14,
     "metadata": {},
     "output_type": "execute_result"
    }
   ],
   "source": [
    "5%3"
   ]
  },
  {
   "cell_type": "code",
   "execution_count": 15,
   "id": "835f8057",
   "metadata": {},
   "outputs": [
    {
     "data": {
      "text/plain": [
       "'Hello'"
      ]
     },
     "execution_count": 15,
     "metadata": {},
     "output_type": "execute_result"
    }
   ],
   "source": [
    "'Hello'"
   ]
  },
  {
   "cell_type": "code",
   "execution_count": 16,
   "id": "7932368e",
   "metadata": {},
   "outputs": [
    {
     "data": {
      "text/plain": [
       "str"
      ]
     },
     "execution_count": 16,
     "metadata": {},
     "output_type": "execute_result"
    }
   ],
   "source": [
    "type('Hello')"
   ]
  },
  {
   "cell_type": "code",
   "execution_count": 17,
   "id": "00dfc011",
   "metadata": {},
   "outputs": [
    {
     "data": {
      "text/plain": [
       "'Hello'"
      ]
     },
     "execution_count": 17,
     "metadata": {},
     "output_type": "execute_result"
    }
   ],
   "source": [
    "\"Hello\""
   ]
  },
  {
   "cell_type": "code",
   "execution_count": 18,
   "id": "c9956715",
   "metadata": {},
   "outputs": [
    {
     "data": {
      "text/plain": [
       "str"
      ]
     },
     "execution_count": 18,
     "metadata": {},
     "output_type": "execute_result"
    }
   ],
   "source": [
    "type(\"Hello\")"
   ]
  },
  {
   "cell_type": "markdown",
   "id": "7430739f",
   "metadata": {},
   "source": [
    "A Python comment is denoted with #"
   ]
  },
  {
   "cell_type": "code",
   "execution_count": 19,
   "id": "33728e90",
   "metadata": {},
   "outputs": [
    {
     "data": {
      "text/plain": [
       "'Hello\\nWorld\\n'"
      ]
     },
     "execution_count": 19,
     "metadata": {},
     "output_type": "execute_result"
    }
   ],
   "source": [
    "# String literal\n",
    "'''Hello\n",
    "World\n",
    "'''"
   ]
  },
  {
   "cell_type": "code",
   "execution_count": 20,
   "id": "17bd4c35",
   "metadata": {},
   "outputs": [
    {
     "data": {
      "text/plain": [
       "2"
      ]
     },
     "execution_count": 20,
     "metadata": {},
     "output_type": "execute_result"
    }
   ],
   "source": [
    "3+3\n",
    "6-4"
   ]
  },
  {
   "cell_type": "code",
   "execution_count": 21,
   "id": "043b2e6a",
   "metadata": {},
   "outputs": [
    {
     "name": "stdout",
     "output_type": "stream",
     "text": [
      "6\n"
     ]
    },
    {
     "data": {
      "text/plain": [
       "2"
      ]
     },
     "execution_count": 21,
     "metadata": {},
     "output_type": "execute_result"
    }
   ],
   "source": [
    "print(3+3)\n",
    "6-4"
   ]
  },
  {
   "cell_type": "code",
   "execution_count": 22,
   "id": "417145a6",
   "metadata": {},
   "outputs": [
    {
     "name": "stdout",
     "output_type": "stream",
     "text": [
      "Hello\n",
      "World\n",
      "\n"
     ]
    }
   ],
   "source": [
    "print('''Hello\n",
    "World\n",
    "''')"
   ]
  },
  {
   "cell_type": "code",
   "execution_count": 23,
   "id": "fda442a8",
   "metadata": {},
   "outputs": [],
   "source": [
    "myString = '''Hello\n",
    "World\n",
    "'''"
   ]
  },
  {
   "cell_type": "code",
   "execution_count": 24,
   "id": "8befc390",
   "metadata": {},
   "outputs": [
    {
     "name": "stdout",
     "output_type": "stream",
     "text": [
      "Hello\n",
      "World\n",
      "\n"
     ]
    }
   ],
   "source": [
    "print(myString)"
   ]
  },
  {
   "cell_type": "code",
   "execution_count": 27,
   "id": "860c45d5",
   "metadata": {},
   "outputs": [
    {
     "data": {
      "text/plain": [
       "str"
      ]
     },
     "execution_count": 27,
     "metadata": {},
     "output_type": "execute_result"
    }
   ],
   "source": [
    "type(myString)"
   ]
  },
  {
   "cell_type": "code",
   "execution_count": 28,
   "id": "aa1adcf9",
   "metadata": {},
   "outputs": [],
   "source": [
    "myString = False"
   ]
  },
  {
   "cell_type": "code",
   "execution_count": 30,
   "id": "fd45970b",
   "metadata": {},
   "outputs": [
    {
     "data": {
      "text/plain": [
       "bool"
      ]
     },
     "execution_count": 30,
     "metadata": {},
     "output_type": "execute_result"
    }
   ],
   "source": [
    "type(myString)"
   ]
  },
  {
   "cell_type": "code",
   "execution_count": 31,
   "id": "e8076962",
   "metadata": {},
   "outputs": [
    {
     "data": {
      "text/plain": [
       "'Hello World'"
      ]
     },
     "execution_count": 31,
     "metadata": {},
     "output_type": "execute_result"
    }
   ],
   "source": [
    "\"Hello \" +  \"World\""
   ]
  },
  {
   "cell_type": "code",
   "execution_count": 32,
   "id": "67414309",
   "metadata": {},
   "outputs": [
    {
     "data": {
      "text/plain": [
       "'Hello 55'"
      ]
     },
     "execution_count": 32,
     "metadata": {},
     "output_type": "execute_result"
    }
   ],
   "source": [
    "\"Hello \" + str(55)"
   ]
  },
  {
   "cell_type": "code",
   "execution_count": 33,
   "id": "a6c83d5a",
   "metadata": {},
   "outputs": [
    {
     "data": {
      "text/plain": [
       "'Hello 55'"
      ]
     },
     "execution_count": 33,
     "metadata": {},
     "output_type": "execute_result"
    }
   ],
   "source": [
    "f\"Hello {55}\""
   ]
  },
  {
   "cell_type": "code",
   "execution_count": 34,
   "id": "52aefa0c",
   "metadata": {},
   "outputs": [
    {
     "data": {
      "text/plain": [
       "'Hello 5.0'"
      ]
     },
     "execution_count": 34,
     "metadata": {},
     "output_type": "execute_result"
    }
   ],
   "source": [
    "f\"Hello {55/11}\""
   ]
  },
  {
   "cell_type": "code",
   "execution_count": 35,
   "id": "abb67a02",
   "metadata": {},
   "outputs": [
    {
     "name": "stdout",
     "output_type": "stream",
     "text": [
      "Hello 55\n"
     ]
    }
   ],
   "source": [
    "print(\"Hello\", 55)"
   ]
  },
  {
   "cell_type": "markdown",
   "id": "254de231",
   "metadata": {},
   "source": [
    "### Markdown Cells\n",
    "1) You can write text and include images\n",
    "\n",
    "2) You can have special formatting\n",
    "\n",
    "3) You can use <b>html</b> tags\n",
    "\n",
    "4) You can use LaTeX markup\n",
    "$x^2$"
   ]
  },
  {
   "cell_type": "markdown",
   "id": "ad6d8fec",
   "metadata": {},
   "source": [
    "## Lists"
   ]
  },
  {
   "cell_type": "code",
   "execution_count": 36,
   "id": "10d50fa7",
   "metadata": {},
   "outputs": [],
   "source": [
    "numList = [3, 5, 7, 10]"
   ]
  },
  {
   "cell_type": "code",
   "execution_count": 37,
   "id": "a3437c84",
   "metadata": {},
   "outputs": [
    {
     "data": {
      "text/plain": [
       "5"
      ]
     },
     "execution_count": 37,
     "metadata": {},
     "output_type": "execute_result"
    }
   ],
   "source": [
    "numList[1]"
   ]
  },
  {
   "cell_type": "markdown",
   "id": "4780e38c",
   "metadata": {},
   "source": [
    "Accessing the last element"
   ]
  },
  {
   "cell_type": "code",
   "execution_count": 38,
   "id": "221abd3d",
   "metadata": {},
   "outputs": [
    {
     "data": {
      "text/plain": [
       "10"
      ]
     },
     "execution_count": 38,
     "metadata": {},
     "output_type": "execute_result"
    }
   ],
   "source": [
    "numList[-1]"
   ]
  },
  {
   "cell_type": "code",
   "execution_count": 40,
   "id": "8b309d9a",
   "metadata": {},
   "outputs": [],
   "source": [
    "#numList[-100]"
   ]
  },
  {
   "cell_type": "markdown",
   "id": "633cbc6f",
   "metadata": {},
   "source": [
    "Array slicing"
   ]
  },
  {
   "cell_type": "code",
   "execution_count": 41,
   "id": "0e0fbaef",
   "metadata": {},
   "outputs": [
    {
     "data": {
      "text/plain": [
       "[5, 7]"
      ]
     },
     "execution_count": 41,
     "metadata": {},
     "output_type": "execute_result"
    }
   ],
   "source": [
    "numList[1:3]"
   ]
  },
  {
   "cell_type": "code",
   "execution_count": 42,
   "id": "ed380654",
   "metadata": {},
   "outputs": [
    {
     "data": {
      "text/plain": [
       "[3, 5, 7]"
      ]
     },
     "execution_count": 42,
     "metadata": {},
     "output_type": "execute_result"
    }
   ],
   "source": [
    "numList[:3]"
   ]
  },
  {
   "cell_type": "code",
   "execution_count": 43,
   "id": "2783d561",
   "metadata": {},
   "outputs": [
    {
     "data": {
      "text/plain": [
       "[5, 7, 10]"
      ]
     },
     "execution_count": 43,
     "metadata": {},
     "output_type": "execute_result"
    }
   ],
   "source": [
    "numList[1:]"
   ]
  },
  {
   "cell_type": "code",
   "execution_count": 44,
   "id": "48ce921c",
   "metadata": {},
   "outputs": [
    {
     "data": {
      "text/plain": [
       "[3, 5, 7]"
      ]
     },
     "execution_count": 44,
     "metadata": {},
     "output_type": "execute_result"
    }
   ],
   "source": [
    "numList[:-1]"
   ]
  },
  {
   "cell_type": "code",
   "execution_count": 45,
   "id": "b30fce6b",
   "metadata": {},
   "outputs": [],
   "source": [
    "numList.append(15)"
   ]
  },
  {
   "cell_type": "code",
   "execution_count": 46,
   "id": "f2479d8e",
   "metadata": {},
   "outputs": [
    {
     "data": {
      "text/plain": [
       "[3, 5, 7, 10, 15]"
      ]
     },
     "execution_count": 46,
     "metadata": {},
     "output_type": "execute_result"
    }
   ],
   "source": [
    "numList"
   ]
  },
  {
   "cell_type": "markdown",
   "id": "c04f8ffc",
   "metadata": {},
   "source": [
    "Deletes and returns the element at the specified index"
   ]
  },
  {
   "cell_type": "code",
   "execution_count": 47,
   "id": "444353d7",
   "metadata": {},
   "outputs": [
    {
     "data": {
      "text/plain": [
       "3"
      ]
     },
     "execution_count": 47,
     "metadata": {},
     "output_type": "execute_result"
    }
   ],
   "source": [
    "numList.pop(0)"
   ]
  },
  {
   "cell_type": "code",
   "execution_count": 48,
   "id": "600cec14",
   "metadata": {},
   "outputs": [
    {
     "data": {
      "text/plain": [
       "[5, 7, 10, 15]"
      ]
     },
     "execution_count": 48,
     "metadata": {},
     "output_type": "execute_result"
    }
   ],
   "source": [
    "numList"
   ]
  },
  {
   "cell_type": "code",
   "execution_count": 49,
   "id": "eb424195",
   "metadata": {},
   "outputs": [
    {
     "data": {
      "text/plain": [
       "4"
      ]
     },
     "execution_count": 49,
     "metadata": {},
     "output_type": "execute_result"
    }
   ],
   "source": [
    "len(numList)"
   ]
  },
  {
   "cell_type": "code",
   "execution_count": 50,
   "id": "7710cfbb",
   "metadata": {},
   "outputs": [],
   "source": [
    "numList.append(\"Hello\")"
   ]
  },
  {
   "cell_type": "code",
   "execution_count": 51,
   "id": "478f0811",
   "metadata": {},
   "outputs": [
    {
     "data": {
      "text/plain": [
       "5"
      ]
     },
     "execution_count": 51,
     "metadata": {},
     "output_type": "execute_result"
    }
   ],
   "source": [
    "len(numList)"
   ]
  },
  {
   "cell_type": "code",
   "execution_count": 52,
   "id": "990ae366",
   "metadata": {},
   "outputs": [
    {
     "data": {
      "text/plain": [
       "[5, 7, 10, 15, 'Hello']"
      ]
     },
     "execution_count": 52,
     "metadata": {},
     "output_type": "execute_result"
    }
   ],
   "source": [
    "numList"
   ]
  },
  {
   "cell_type": "markdown",
   "id": "b7299dae",
   "metadata": {},
   "source": [
    "Removes the first instance of the given element, if it exists"
   ]
  },
  {
   "cell_type": "code",
   "execution_count": 53,
   "id": "77250b5e",
   "metadata": {},
   "outputs": [],
   "source": [
    "numList.remove(10)"
   ]
  },
  {
   "cell_type": "code",
   "execution_count": 54,
   "id": "4f4b28b4",
   "metadata": {},
   "outputs": [
    {
     "data": {
      "text/plain": [
       "[5, 7, 15, 'Hello']"
      ]
     },
     "execution_count": 54,
     "metadata": {},
     "output_type": "execute_result"
    }
   ],
   "source": [
    "numList"
   ]
  },
  {
   "cell_type": "markdown",
   "id": "88f65ed4",
   "metadata": {},
   "source": [
    "## Part 2"
   ]
  },
  {
   "cell_type": "markdown",
   "id": "77936990",
   "metadata": {},
   "source": [
    "Java maps = Python dictionaries"
   ]
  },
  {
   "cell_type": "code",
   "execution_count": 55,
   "id": "9e19d239",
   "metadata": {},
   "outputs": [],
   "source": [
    "numDict = {\"key\": \"Value\", 3: True}"
   ]
  },
  {
   "cell_type": "code",
   "execution_count": 56,
   "id": "723f452d",
   "metadata": {
    "collapsed": true,
    "jupyter": {
     "outputs_hidden": true
    }
   },
   "outputs": [
    {
     "ename": "KeyError",
     "evalue": "0",
     "output_type": "error",
     "traceback": [
      "\u001b[1;31m---------------------------------------------------------------------------\u001b[0m",
      "\u001b[1;31mKeyError\u001b[0m                                  Traceback (most recent call last)",
      "\u001b[1;32m~\\AppData\\Local\\Temp/ipykernel_13576/2331874608.py\u001b[0m in \u001b[0;36m<module>\u001b[1;34m\u001b[0m\n\u001b[1;32m----> 1\u001b[1;33m \u001b[0mnumDict\u001b[0m\u001b[1;33m[\u001b[0m\u001b[1;36m0\u001b[0m\u001b[1;33m]\u001b[0m\u001b[1;33m\u001b[0m\u001b[1;33m\u001b[0m\u001b[0m\n\u001b[0m",
      "\u001b[1;31mKeyError\u001b[0m: 0"
     ]
    }
   ],
   "source": [
    "numDict[0]"
   ]
  },
  {
   "cell_type": "code",
   "execution_count": 57,
   "id": "46837e46",
   "metadata": {},
   "outputs": [
    {
     "data": {
      "text/plain": [
       "'Value'"
      ]
     },
     "execution_count": 57,
     "metadata": {},
     "output_type": "execute_result"
    }
   ],
   "source": [
    "numDict[\"key\"]"
   ]
  },
  {
   "cell_type": "code",
   "execution_count": 58,
   "id": "76bacef2",
   "metadata": {},
   "outputs": [
    {
     "data": {
      "text/plain": [
       "True"
      ]
     },
     "execution_count": 58,
     "metadata": {},
     "output_type": "execute_result"
    }
   ],
   "source": [
    "numDict[3]"
   ]
  },
  {
   "cell_type": "code",
   "execution_count": 59,
   "id": "40e7a116",
   "metadata": {},
   "outputs": [],
   "source": [
    "numDict[True] = 47"
   ]
  },
  {
   "cell_type": "code",
   "execution_count": 60,
   "id": "d0c6f1be",
   "metadata": {},
   "outputs": [
    {
     "data": {
      "text/plain": [
       "{'key': 'Value', 3: True, True: 47}"
      ]
     },
     "execution_count": 60,
     "metadata": {},
     "output_type": "execute_result"
    }
   ],
   "source": [
    "numDict"
   ]
  },
  {
   "cell_type": "markdown",
   "id": "47b3930e",
   "metadata": {},
   "source": [
    "## Loops"
   ]
  },
  {
   "cell_type": "markdown",
   "id": "80c27f12",
   "metadata": {},
   "source": [
    "for (int i=0; i<10; i++) {...}"
   ]
  },
  {
   "cell_type": "code",
   "execution_count": 61,
   "id": "16b06f6f",
   "metadata": {},
   "outputs": [
    {
     "name": "stdout",
     "output_type": "stream",
     "text": [
      "0\n",
      "1\n",
      "2\n",
      "3\n",
      "4\n",
      "5\n",
      "6\n",
      "7\n",
      "8\n",
      "9\n"
     ]
    }
   ],
   "source": [
    "for i in range(10):\n",
    "    print(i)"
   ]
  },
  {
   "cell_type": "code",
   "execution_count": 62,
   "id": "5de8d8ee",
   "metadata": {},
   "outputs": [
    {
     "name": "stdout",
     "output_type": "stream",
     "text": [
      "10\n",
      "11\n",
      "12\n",
      "13\n",
      "14\n",
      "15\n",
      "16\n",
      "17\n",
      "18\n",
      "19\n"
     ]
    }
   ],
   "source": [
    "for i in range(10, 20):\n",
    "    print(i)"
   ]
  },
  {
   "cell_type": "code",
   "execution_count": 63,
   "id": "1cfc97ba",
   "metadata": {},
   "outputs": [
    {
     "name": "stdout",
     "output_type": "stream",
     "text": [
      "5\n",
      "7\n",
      "15\n",
      "Hello\n"
     ]
    }
   ],
   "source": [
    "for element in numList:\n",
    "    print(element)"
   ]
  },
  {
   "cell_type": "code",
   "execution_count": 65,
   "id": "9393a6e2",
   "metadata": {},
   "outputs": [
    {
     "name": "stdout",
     "output_type": "stream",
     "text": [
      "0\n",
      "1\n",
      "2\n",
      "3\n",
      "4\n",
      "5\n",
      "6\n",
      "7\n",
      "8\n",
      "9\n",
      "The count is over\n"
     ]
    }
   ],
   "source": [
    "count = 0\n",
    "while count < 10:\n",
    "    print(count)\n",
    "    count += 1\n",
    "print(\"The count is over\")"
   ]
  },
  {
   "cell_type": "code",
   "execution_count": 67,
   "id": "04c3305e",
   "metadata": {},
   "outputs": [
    {
     "name": "stdout",
     "output_type": "stream",
     "text": [
      "0\n",
      "The count is over\n"
     ]
    },
    {
     "data": {
      "text/plain": [
       "1"
      ]
     },
     "execution_count": 67,
     "metadata": {},
     "output_type": "execute_result"
    }
   ],
   "source": [
    "count = 0\n",
    "while count < 10:\n",
    "    print(count)\n",
    "    count += 1\n",
    "    break\n",
    "print(\"The count is over\")\n",
    "count"
   ]
  },
  {
   "cell_type": "code",
   "execution_count": 68,
   "id": "ac69feb0",
   "metadata": {},
   "outputs": [
    {
     "name": "stdout",
     "output_type": "stream",
     "text": [
      "0\n",
      "1\n",
      "2\n",
      "3\n",
      "4\n",
      "5\n",
      "6\n",
      "7\n",
      "8\n",
      "9\n",
      "The count is over\n"
     ]
    },
    {
     "data": {
      "text/plain": [
       "10"
      ]
     },
     "execution_count": 68,
     "metadata": {},
     "output_type": "execute_result"
    }
   ],
   "source": [
    "count = 0\n",
    "while count < 10:\n",
    "    print(count)\n",
    "    count += 1\n",
    "    continue\n",
    "    print(\"Hello\")\n",
    "print(\"The count is over\")\n",
    "count"
   ]
  },
  {
   "cell_type": "code",
   "execution_count": 69,
   "id": "2d24309b",
   "metadata": {},
   "outputs": [
    {
     "name": "stdout",
     "output_type": "stream",
     "text": [
      "Hello\n",
      "World\n"
     ]
    }
   ],
   "source": [
    "if 5 < 10:\n",
    "    print(\"Hello\")\n",
    "    print(\"World\")"
   ]
  },
  {
   "cell_type": "code",
   "execution_count": 70,
   "id": "bf67c564",
   "metadata": {},
   "outputs": [],
   "source": [
    "if 5 > 10:\n",
    "    print(\"Hello\")\n",
    "    print(\"World\")"
   ]
  },
  {
   "cell_type": "code",
   "execution_count": 71,
   "id": "c6ab7ad1",
   "metadata": {},
   "outputs": [
    {
     "name": "stdout",
     "output_type": "stream",
     "text": [
      "Hello\n",
      "World\n"
     ]
    }
   ],
   "source": [
    "if 5 > 10 or 4 < 5:\n",
    "    print(\"Hello\")\n",
    "    print(\"World\")"
   ]
  },
  {
   "cell_type": "code",
   "execution_count": 73,
   "id": "0162107d",
   "metadata": {},
   "outputs": [],
   "source": [
    "if 5 > 10 | 4 < 5:\n",
    "    print(\"Hello\")\n",
    "    print(\"World\")"
   ]
  },
  {
   "cell_type": "code",
   "execution_count": 75,
   "id": "278b09bd",
   "metadata": {},
   "outputs": [
    {
     "name": "stdout",
     "output_type": "stream",
     "text": [
      "Hello\n"
     ]
    }
   ],
   "source": [
    "if 5< 10 and 4 < 5:\n",
    "    print(\"Hello\")"
   ]
  },
  {
   "cell_type": "code",
   "execution_count": 76,
   "id": "121a601c",
   "metadata": {},
   "outputs": [
    {
     "name": "stdout",
     "output_type": "stream",
     "text": [
      "Hello\n"
     ]
    }
   ],
   "source": [
    "if 5< 10 and 4 < 5:\n",
    "    print(\"Hello\")\n",
    "else:\n",
    "    print(\"Good bye\")"
   ]
  },
  {
   "cell_type": "code",
   "execution_count": 77,
   "id": "87de9bdb",
   "metadata": {},
   "outputs": [
    {
     "name": "stdout",
     "output_type": "stream",
     "text": [
      "Good bye\n"
     ]
    }
   ],
   "source": [
    "if 55< 10 and 4 < 5:\n",
    "    print(\"Hello\")\n",
    "else:\n",
    "    print(\"Good bye\")"
   ]
  },
  {
   "cell_type": "code",
   "execution_count": 78,
   "id": "75afed65",
   "metadata": {},
   "outputs": [
    {
     "name": "stdout",
     "output_type": "stream",
     "text": [
      "In the middle\n"
     ]
    }
   ],
   "source": [
    "if 55< 10 and 4 < 5:\n",
    "    print(\"Hello\")\n",
    "elif 5 < 55:\n",
    "    print(\"In the middle\")\n",
    "else:\n",
    "    print(\"Good bye\")"
   ]
  },
  {
   "cell_type": "code",
   "execution_count": 79,
   "id": "c866c5a4",
   "metadata": {},
   "outputs": [
    {
     "name": "stdout",
     "output_type": "stream",
     "text": [
      "0\n",
      "5\n",
      "10\n",
      "15\n"
     ]
    }
   ],
   "source": [
    "count = 0\n",
    "while count < 20:\n",
    "    if count % 5 == 0:\n",
    "        print(count)\n",
    "    count += 1 # count++"
   ]
  },
  {
   "cell_type": "markdown",
   "id": "7d182641",
   "metadata": {},
   "source": [
    "## functions and methods"
   ]
  },
  {
   "cell_type": "code",
   "execution_count": 80,
   "id": "c5920e22",
   "metadata": {},
   "outputs": [],
   "source": [
    "def adder(num1, num2, num3):\n",
    "    return num1 + (num2 * num3)"
   ]
  },
  {
   "cell_type": "code",
   "execution_count": 81,
   "id": "666785e2",
   "metadata": {},
   "outputs": [
    {
     "data": {
      "text/plain": [
       "21"
      ]
     },
     "execution_count": 81,
     "metadata": {},
     "output_type": "execute_result"
    }
   ],
   "source": [
    "adder(1, 4, 5)"
   ]
  },
  {
   "cell_type": "code",
   "execution_count": 82,
   "id": "e2187b51",
   "metadata": {},
   "outputs": [],
   "source": [
    "def adder(num1, num2, num3):\n",
    "    return num1 + (num2 * num3), num1+num2+num3"
   ]
  },
  {
   "cell_type": "code",
   "execution_count": 83,
   "id": "c243fa8e",
   "metadata": {},
   "outputs": [
    {
     "data": {
      "text/plain": [
       "(21, 10)"
      ]
     },
     "execution_count": 83,
     "metadata": {},
     "output_type": "execute_result"
    }
   ],
   "source": [
    "adder(1, 4, 5)"
   ]
  },
  {
   "cell_type": "code",
   "execution_count": 84,
   "id": "24de4855",
   "metadata": {},
   "outputs": [],
   "source": [
    "ans1, ans2 = adder(1, 4, 5)"
   ]
  },
  {
   "cell_type": "code",
   "execution_count": 85,
   "id": "2468c756",
   "metadata": {},
   "outputs": [
    {
     "data": {
      "text/plain": [
       "21"
      ]
     },
     "execution_count": 85,
     "metadata": {},
     "output_type": "execute_result"
    }
   ],
   "source": [
    "ans1"
   ]
  },
  {
   "cell_type": "code",
   "execution_count": 86,
   "id": "41224d19",
   "metadata": {},
   "outputs": [
    {
     "data": {
      "text/plain": [
       "10"
      ]
     },
     "execution_count": 86,
     "metadata": {},
     "output_type": "execute_result"
    }
   ],
   "source": [
    "ans2"
   ]
  },
  {
   "cell_type": "code",
   "execution_count": 87,
   "id": "13a3029b",
   "metadata": {},
   "outputs": [
    {
     "data": {
      "text/plain": [
       "tuple"
      ]
     },
     "execution_count": 87,
     "metadata": {},
     "output_type": "execute_result"
    }
   ],
   "source": [
    "type(adder(1, 4, 5))"
   ]
  },
  {
   "cell_type": "code",
   "execution_count": 88,
   "id": "ebf00262",
   "metadata": {},
   "outputs": [],
   "source": [
    "def adder(num1, num2, num3):\n",
    "    return num1 + (num2 * num3), num1+num2+num3"
   ]
  },
  {
   "cell_type": "code",
   "execution_count": 89,
   "id": "f6734ad4",
   "metadata": {},
   "outputs": [
    {
     "data": {
      "text/plain": [
       "(9, 10)"
      ]
     },
     "execution_count": 89,
     "metadata": {},
     "output_type": "execute_result"
    }
   ],
   "source": [
    "adder(num3=1, num1=4, num2=5)"
   ]
  },
  {
   "cell_type": "code",
   "execution_count": 94,
   "id": "f49b541d",
   "metadata": {},
   "outputs": [],
   "source": [
    "def adder(num1, num2, num3, *args):\n",
    "    total = 0\n",
    "    for arg in args:\n",
    "        total += arg\n",
    "        print(arg)\n",
    "    return num1 + (num2 * num3), num1+num2+num3+total"
   ]
  },
  {
   "cell_type": "code",
   "execution_count": 95,
   "id": "035eb534",
   "metadata": {},
   "outputs": [
    {
     "name": "stdout",
     "output_type": "stream",
     "text": [
      "4\n",
      "5\n",
      "6\n",
      "7\n",
      "8\n",
      "9\n",
      "10\n"
     ]
    },
    {
     "data": {
      "text/plain": [
       "(7, 55)"
      ]
     },
     "execution_count": 95,
     "metadata": {},
     "output_type": "execute_result"
    }
   ],
   "source": [
    "adder(1, 2, 3, 4, 5, 6,7 , 8, 9, 10)"
   ]
  },
  {
   "cell_type": "code",
   "execution_count": 97,
   "id": "e08fbeb9",
   "metadata": {},
   "outputs": [
    {
     "name": "stdout",
     "output_type": "stream",
     "text": [
      "Promt\n",
      "hi\n"
     ]
    }
   ],
   "source": [
    "value = input(\"Promt\\n\")"
   ]
  },
  {
   "cell_type": "code",
   "execution_count": 98,
   "id": "9f7195f8",
   "metadata": {},
   "outputs": [
    {
     "data": {
      "text/plain": [
       "'hi'"
      ]
     },
     "execution_count": 98,
     "metadata": {},
     "output_type": "execute_result"
    }
   ],
   "source": [
    "value"
   ]
  },
  {
   "cell_type": "code",
   "execution_count": null,
   "id": "1b421075",
   "metadata": {},
   "outputs": [],
   "source": []
  }
 ],
 "metadata": {
  "kernelspec": {
   "display_name": "Python 3 (ipykernel)",
   "language": "python",
   "name": "python3"
  },
  "language_info": {
   "codemirror_mode": {
    "name": "ipython",
    "version": 3
   },
   "file_extension": ".py",
   "mimetype": "text/x-python",
   "name": "python",
   "nbconvert_exporter": "python",
   "pygments_lexer": "ipython3",
   "version": "3.12.5"
  }
 },
 "nbformat": 4,
 "nbformat_minor": 5
}
