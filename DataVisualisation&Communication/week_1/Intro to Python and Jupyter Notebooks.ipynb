{
 "cells": [
  {
   "cell_type": "code",
   "execution_count": 1,
   "id": "aa9cda47-1de2-432a-b7d9-72e07f3876f2",
   "metadata": {},
   "outputs": [
    {
     "data": {
      "text/plain": [
       "6"
      ]
     },
     "execution_count": 1,
     "metadata": {},
     "output_type": "execute_result"
    }
   ],
   "source": [
    "3+3"
   ]
  },
  {
   "cell_type": "code",
   "execution_count": 2,
   "id": "6196c6c1-1168-455c-9af4-9fadb5ed46fe",
   "metadata": {},
   "outputs": [
    {
     "data": {
      "text/plain": [
       "45"
      ]
     },
     "execution_count": 2,
     "metadata": {},
     "output_type": "execute_result"
    }
   ],
   "source": [
    "a = 5\n",
    "b = 9\n",
    "a * b"
   ]
  },
  {
   "cell_type": "markdown",
   "id": "8a21b3d0-47ff-4ddf-9b23-00d5d5ef72fd",
   "metadata": {},
   "source": [
    "Type in normal text in a markdown cell\n",
    "\n",
    "**Bold Text**\n",
    "\n",
    "LaTeX\n",
    "$a^b$\n",
    "\n",
    "- bullet point 1\n",
    "- bullet point 2"
   ]
  },
  {
   "cell_type": "code",
   "execution_count": 3,
   "id": "2e69ef2a-72f7-498e-97aa-8cfd6ba78cc9",
   "metadata": {},
   "outputs": [
    {
     "data": {
      "text/plain": [
       "1953125"
      ]
     },
     "execution_count": 3,
     "metadata": {},
     "output_type": "execute_result"
    }
   ],
   "source": [
    "a ** b"
   ]
  },
  {
   "cell_type": "code",
   "execution_count": 4,
   "id": "ea25d812-9d1f-4177-8739-6d06bc3235af",
   "metadata": {},
   "outputs": [
    {
     "data": {
      "text/plain": [
       "1953125"
      ]
     },
     "execution_count": 4,
     "metadata": {},
     "output_type": "execute_result"
    }
   ],
   "source": [
    "a **                                               b"
   ]
  },
  {
   "cell_type": "code",
   "execution_count": 5,
   "id": "65bdb261-76b2-4e93-ab8c-d2dd8a104d4a",
   "metadata": {},
   "outputs": [
    {
     "data": {
      "text/plain": [
       "2"
      ]
     },
     "execution_count": 5,
     "metadata": {},
     "output_type": "execute_result"
    }
   ],
   "source": [
    "10 % 4"
   ]
  },
  {
   "cell_type": "markdown",
   "id": "243f4df4-8321-49c5-95c6-6084e499d1b2",
   "metadata": {},
   "source": [
    "Java\n",
    "\n",
    "if (condition) {\n",
    "    code\n",
    "}"
   ]
  },
  {
   "cell_type": "code",
   "execution_count": 6,
   "id": "f0845980-7d7b-48c2-8b7c-e69623ee8f2f",
   "metadata": {},
   "outputs": [
    {
     "name": "stdout",
     "output_type": "stream",
     "text": [
      "10\n"
     ]
    }
   ],
   "source": [
    "if 5 > 3:\n",
    "    c = 10\n",
    "    print(c)"
   ]
  },
  {
   "cell_type": "code",
   "execution_count": 7,
   "id": "9b9f5562-328e-45a9-bbcc-c69ed412f906",
   "metadata": {},
   "outputs": [],
   "source": [
    "if 5 < 3:\n",
    "    c = 10\n",
    "    print(c)"
   ]
  },
  {
   "cell_type": "code",
   "execution_count": 8,
   "id": "3f4d9e2a-8069-4377-adc4-d4a978efc222",
   "metadata": {},
   "outputs": [
    {
     "name": "stdout",
     "output_type": "stream",
     "text": [
      "10\n",
      "outside the indent\n"
     ]
    }
   ],
   "source": [
    "if 5 > 3:\n",
    "    c = 10\n",
    "    print(c)\n",
    "print(\"outside the indent\")"
   ]
  },
  {
   "cell_type": "code",
   "execution_count": 9,
   "id": "1fa42a92-13a9-4279-bace-bd920733b6af",
   "metadata": {},
   "outputs": [
    {
     "name": "stdout",
     "output_type": "stream",
     "text": [
      "outside the indent\n"
     ]
    }
   ],
   "source": [
    "if 5 < 3:\n",
    "    c = 10\n",
    "    print(c)\n",
    "print(\"outside the indent\")"
   ]
  },
  {
   "cell_type": "code",
   "execution_count": 10,
   "id": "6b84f9a8-ae9d-4e7a-8dec-4427b6e5d5a1",
   "metadata": {},
   "outputs": [],
   "source": [
    "string1 = \"double quote\"\n",
    "string2 = 'single quote'\n",
    "string3 = '''Tripple\n",
    "quote'''"
   ]
  },
  {
   "cell_type": "code",
   "execution_count": 11,
   "id": "bb35e908-dc24-4550-baca-b2dcd993ba9b",
   "metadata": {},
   "outputs": [
    {
     "name": "stdout",
     "output_type": "stream",
     "text": [
      "double quote\n"
     ]
    }
   ],
   "source": [
    "print(string1)"
   ]
  },
  {
   "cell_type": "code",
   "execution_count": 12,
   "id": "70d73208-f7a4-492b-88d1-cc1c75e4aa3f",
   "metadata": {},
   "outputs": [
    {
     "name": "stdout",
     "output_type": "stream",
     "text": [
      "single quote\n"
     ]
    }
   ],
   "source": [
    "print(string2)"
   ]
  },
  {
   "cell_type": "code",
   "execution_count": 13,
   "id": "d274816e-3bca-4752-b685-a546cfbb0ddb",
   "metadata": {},
   "outputs": [
    {
     "name": "stdout",
     "output_type": "stream",
     "text": [
      "Tripple\n",
      "quote\n"
     ]
    }
   ],
   "source": [
    "print(string3)"
   ]
  },
  {
   "cell_type": "code",
   "execution_count": 14,
   "id": "073a6e16-fc0e-4a6c-8113-874afa2d632a",
   "metadata": {},
   "outputs": [
    {
     "data": {
      "text/plain": [
       "int"
      ]
     },
     "execution_count": 14,
     "metadata": {},
     "output_type": "execute_result"
    }
   ],
   "source": [
    "type(6)"
   ]
  },
  {
   "cell_type": "code",
   "execution_count": 15,
   "id": "43c4c441-9b32-4da4-b3ee-37abe66169a2",
   "metadata": {},
   "outputs": [
    {
     "data": {
      "text/plain": [
       "str"
      ]
     },
     "execution_count": 15,
     "metadata": {},
     "output_type": "execute_result"
    }
   ],
   "source": [
    "type(string1)"
   ]
  },
  {
   "cell_type": "code",
   "execution_count": 16,
   "id": "8536e666-4738-462b-a366-6afe482d1d8f",
   "metadata": {},
   "outputs": [
    {
     "data": {
      "text/plain": [
       "float"
      ]
     },
     "execution_count": 16,
     "metadata": {},
     "output_type": "execute_result"
    }
   ],
   "source": [
    "type(3.2)"
   ]
  },
  {
   "cell_type": "code",
   "execution_count": 17,
   "id": "be8d88c2-d470-4396-b713-c09e3afa2e30",
   "metadata": {},
   "outputs": [
    {
     "data": {
      "text/plain": [
       "bool"
      ]
     },
     "execution_count": 17,
     "metadata": {},
     "output_type": "execute_result"
    }
   ],
   "source": [
    "type(True)"
   ]
  },
  {
   "cell_type": "code",
   "execution_count": 18,
   "id": "75ea8947-e8e6-4657-a441-62bf746e4c7c",
   "metadata": {},
   "outputs": [
    {
     "data": {
      "text/plain": [
       "3"
      ]
     },
     "execution_count": 18,
     "metadata": {},
     "output_type": "execute_result"
    }
   ],
   "source": [
    "int(3.0)"
   ]
  },
  {
   "cell_type": "code",
   "execution_count": 19,
   "id": "9d3a1505-2dd9-4ab5-8587-d8d0ac50e53c",
   "metadata": {},
   "outputs": [
    {
     "data": {
      "text/plain": [
       "4.6"
      ]
     },
     "execution_count": 19,
     "metadata": {},
     "output_type": "execute_result"
    }
   ],
   "source": [
    "float(\"4.6\")"
   ]
  },
  {
   "cell_type": "code",
   "execution_count": 20,
   "id": "5e1a26b7-40d0-4d76-90c6-df9ac9f9990b",
   "metadata": {},
   "outputs": [
    {
     "data": {
      "text/plain": [
       "'3.254'"
      ]
     },
     "execution_count": 20,
     "metadata": {},
     "output_type": "execute_result"
    }
   ],
   "source": [
    "str(3.254)"
   ]
  },
  {
   "cell_type": "code",
   "execution_count": 21,
   "id": "83286fcb-d743-4ef8-94de-8e0a231d0ab0",
   "metadata": {},
   "outputs": [
    {
     "data": {
      "text/plain": [
       "complex"
      ]
     },
     "execution_count": 21,
     "metadata": {},
     "output_type": "execute_result"
    }
   ],
   "source": [
    "type(3j)"
   ]
  },
  {
   "cell_type": "code",
   "execution_count": 22,
   "id": "914ce491-4f5a-4ed4-86e8-4ace3ec80b58",
   "metadata": {},
   "outputs": [
    {
     "name": "stdout",
     "output_type": "stream",
     "text": [
      "Ok\n"
     ]
    }
   ],
   "source": [
    "if 3 > 5 or 6 > 2 and not 3 < 5:\n",
    "    print(\"cool\")\n",
    "elif 3 > 5:\n",
    "    print(\"What??\")\n",
    "else:\n",
    "    print(\"Ok\")"
   ]
  },
  {
   "cell_type": "markdown",
   "id": "e41afb8e-5dfd-48fc-a041-fd43b27d1b48",
   "metadata": {},
   "source": [
    "for (int i=0; i<10; i++) {System.out.println(i);}"
   ]
  },
  {
   "cell_type": "code",
   "execution_count": 23,
   "id": "6f4d8fa4-1d1f-4745-be77-35456adc4ff3",
   "metadata": {},
   "outputs": [
    {
     "name": "stdout",
     "output_type": "stream",
     "text": [
      "0\n",
      "1\n",
      "2\n",
      "3\n",
      "4\n",
      "5\n",
      "6\n",
      "7\n",
      "8\n",
      "9\n"
     ]
    }
   ],
   "source": [
    "for i in range(10):\n",
    "    print(i)"
   ]
  },
  {
   "cell_type": "code",
   "execution_count": 24,
   "id": "2ad1798f-0eaf-435e-89e1-ddf5ad687bc2",
   "metadata": {},
   "outputs": [
    {
     "data": {
      "text/plain": [
       "range(0, 10)"
      ]
     },
     "execution_count": 24,
     "metadata": {},
     "output_type": "execute_result"
    }
   ],
   "source": [
    "range(10)"
   ]
  },
  {
   "cell_type": "code",
   "execution_count": 25,
   "id": "38255a3c-a37d-4786-8bd7-5081281e3c93",
   "metadata": {},
   "outputs": [
    {
     "name": "stdout",
     "output_type": "stream",
     "text": [
      "10\n",
      "15\n",
      "20\n",
      "25\n",
      "30\n",
      "35\n",
      "40\n",
      "45\n",
      "50\n",
      "55\n",
      "60\n",
      "65\n",
      "70\n",
      "75\n",
      "80\n",
      "85\n",
      "90\n",
      "95\n"
     ]
    }
   ],
   "source": [
    "for i in range(10, 100, 5):\n",
    "    print(i)"
   ]
  },
  {
   "cell_type": "code",
   "execution_count": 27,
   "id": "8a60951b-4924-47d3-b8bc-2c39c2bba94c",
   "metadata": {},
   "outputs": [
    {
     "name": "stdout",
     "output_type": "stream",
     "text": [
      "100\n",
      "95\n",
      "90\n",
      "85\n",
      "80\n",
      "75\n",
      "70\n",
      "65\n",
      "60\n",
      "55\n",
      "50\n",
      "45\n",
      "40\n",
      "35\n",
      "30\n",
      "25\n",
      "20\n",
      "15\n",
      "10\n"
     ]
    }
   ],
   "source": [
    "for i in range(100, 10-1, -5):\n",
    "    print(i)"
   ]
  },
  {
   "cell_type": "code",
   "execution_count": 28,
   "id": "4cf38ffe-b033-4868-a430-540cfd7bcbd1",
   "metadata": {},
   "outputs": [
    {
     "name": "stdout",
     "output_type": "stream",
     "text": [
      "0\n",
      "1\n",
      "2\n",
      "3\n",
      "4\n",
      "5\n",
      "6\n",
      "7\n",
      "8\n",
      "9\n",
      "10\n"
     ]
    }
   ],
   "source": [
    "for i in range(10+1):\n",
    "    print(i)"
   ]
  },
  {
   "cell_type": "code",
   "execution_count": 29,
   "id": "0c00ba1c-0011-4be4-815a-b66a7e454730",
   "metadata": {},
   "outputs": [
    {
     "data": {
      "text/plain": [
       "False"
      ]
     },
     "execution_count": 29,
     "metadata": {},
     "output_type": "execute_result"
    }
   ],
   "source": [
    "3 == \"3\""
   ]
  },
  {
   "cell_type": "code",
   "execution_count": 30,
   "id": "c3ab1c3f-dd8f-4c7c-8b73-08384c84f211",
   "metadata": {},
   "outputs": [
    {
     "data": {
      "text/plain": [
       "True"
      ]
     },
     "execution_count": 30,
     "metadata": {},
     "output_type": "execute_result"
    }
   ],
   "source": [
    "3 == 3.0"
   ]
  },
  {
   "cell_type": "code",
   "execution_count": 31,
   "id": "55d061ef-782d-4c62-abe7-a8c09084148b",
   "metadata": {},
   "outputs": [
    {
     "data": {
      "text/plain": [
       "False"
      ]
     },
     "execution_count": 31,
     "metadata": {},
     "output_type": "execute_result"
    }
   ],
   "source": [
    "3 == 3.1"
   ]
  },
  {
   "cell_type": "code",
   "execution_count": 32,
   "id": "3e49bc86-faaf-4e22-a851-30ba49a029af",
   "metadata": {},
   "outputs": [
    {
     "data": {
      "text/plain": [
       "3"
      ]
     },
     "execution_count": 32,
     "metadata": {},
     "output_type": "execute_result"
    }
   ],
   "source": [
    "int(\"3\")"
   ]
  },
  {
   "cell_type": "code",
   "execution_count": 33,
   "id": "d2fe4d7e-bf6f-4bbc-83c3-4ef9b2b30f61",
   "metadata": {},
   "outputs": [
    {
     "ename": "ValueError",
     "evalue": "invalid literal for int() with base 10: 'Sam'",
     "output_type": "error",
     "traceback": [
      "\u001b[1;31m---------------------------------------------------------------------------\u001b[0m",
      "\u001b[1;31mValueError\u001b[0m                                Traceback (most recent call last)",
      "Cell \u001b[1;32mIn[33], line 1\u001b[0m\n\u001b[1;32m----> 1\u001b[0m \u001b[38;5;28mint\u001b[39m(\u001b[38;5;124m\"\u001b[39m\u001b[38;5;124mSam\u001b[39m\u001b[38;5;124m\"\u001b[39m)\n",
      "\u001b[1;31mValueError\u001b[0m: invalid literal for int() with base 10: 'Sam'"
     ]
    }
   ],
   "source": [
    "int(\"Sam\")"
   ]
  },
  {
   "cell_type": "code",
   "execution_count": 36,
   "id": "d450f437-8704-4b55-be57-c4e5638c39ab",
   "metadata": {},
   "outputs": [
    {
     "name": "stdout",
     "output_type": "stream",
     "text": [
      "100\n"
     ]
    }
   ],
   "source": [
    "total = 0\n",
    "while total < 100:\n",
    "    total = total + 10\n",
    "    if total == 50:\n",
    "        continue\n",
    "    if total == 50:\n",
    "        break\n",
    "print(total)"
   ]
  },
  {
   "cell_type": "code",
   "execution_count": 37,
   "id": "44bc6400-5d51-4eb4-aa9f-e9fbbd6400e2",
   "metadata": {},
   "outputs": [
    {
     "data": {
      "text/plain": [
       "int"
      ]
     },
     "execution_count": 37,
     "metadata": {},
     "output_type": "execute_result"
    }
   ],
   "source": [
    "type(a)"
   ]
  },
  {
   "cell_type": "code",
   "execution_count": 38,
   "id": "65ff5f75-0876-4962-9c5b-2373c563373f",
   "metadata": {},
   "outputs": [],
   "source": [
    "a = \"Python\""
   ]
  },
  {
   "cell_type": "code",
   "execution_count": 39,
   "id": "8988bf69-9d9d-4afd-97bc-1b5e46a93994",
   "metadata": {},
   "outputs": [
    {
     "data": {
      "text/plain": [
       "str"
      ]
     },
     "execution_count": 39,
     "metadata": {},
     "output_type": "execute_result"
    }
   ],
   "source": [
    "type(a)"
   ]
  },
  {
   "cell_type": "code",
   "execution_count": 40,
   "id": "221b3d46-7c02-4440-8e12-e2193ad3f2ea",
   "metadata": {},
   "outputs": [],
   "source": [
    "list1 = [1, \"Python\", b, [\"another list!!\"]]"
   ]
  },
  {
   "cell_type": "code",
   "execution_count": 41,
   "id": "83efa7ce-1187-43a5-9026-f03e26eb68ea",
   "metadata": {},
   "outputs": [
    {
     "data": {
      "text/plain": [
       "[1, 'Python', 9, ['another list!!']]"
      ]
     },
     "execution_count": 41,
     "metadata": {},
     "output_type": "execute_result"
    }
   ],
   "source": [
    "list1"
   ]
  },
  {
   "cell_type": "code",
   "execution_count": 42,
   "id": "d8162b12-5acb-4821-8feb-5e4260215eb0",
   "metadata": {},
   "outputs": [
    {
     "data": {
      "text/plain": [
       "'Python'"
      ]
     },
     "execution_count": 42,
     "metadata": {},
     "output_type": "execute_result"
    }
   ],
   "source": [
    "list1[1]"
   ]
  },
  {
   "cell_type": "code",
   "execution_count": 43,
   "id": "91677b4d-20ec-45d2-b567-c92b7480e908",
   "metadata": {},
   "outputs": [
    {
     "data": {
      "text/plain": [
       "['another list!!']"
      ]
     },
     "execution_count": 43,
     "metadata": {},
     "output_type": "execute_result"
    }
   ],
   "source": [
    "list1[-1]"
   ]
  },
  {
   "cell_type": "code",
   "execution_count": null,
   "id": "27c5d078-5234-4ab1-8a0c-f846f24314c9",
   "metadata": {},
   "outputs": [],
   "source": []
  }
 ],
 "metadata": {
  "kernelspec": {
   "display_name": "Python 3 (ipykernel)",
   "language": "python",
   "name": "python3"
  },
  "language_info": {
   "codemirror_mode": {
    "name": "ipython",
    "version": 3
   },
   "file_extension": ".py",
   "mimetype": "text/x-python",
   "name": "python",
   "nbconvert_exporter": "python",
   "pygments_lexer": "ipython3",
   "version": "3.12.5"
  }
 },
 "nbformat": 4,
 "nbformat_minor": 5
}
